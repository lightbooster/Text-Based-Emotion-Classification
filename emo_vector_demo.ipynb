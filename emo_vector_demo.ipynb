{
 "cells": [
  {
   "cell_type": "code",
   "execution_count": 1,
   "metadata": {},
   "outputs": [],
   "source": [
    "import numpy as np\n",
    "import torch\n",
    "from omegaconf import OmegaConf, DictConfig\n",
    "from scipy.spatial.distance import cosine\n",
    "\n",
    "from transformers import BertTokenizer\n",
    "\n",
    "from models import compose_model\n",
    "from text_processing import *\n",
    "from utils import *"
   ]
  },
  {
   "cell_type": "code",
   "execution_count": 2,
   "metadata": {},
   "outputs": [],
   "source": [
    "emotions = \"admiration,amusement,anger,annoyance,approval,caring,confusion,curiosity,desire,disappointment,disapproval,disgust,embarrassment,excitement,fear,gratitude,grief,joy,love,nervousness,optimism,pride,realization,relief,remorse,sadness,surprise,neutral\".split(',')\n",
    "emotions_map = {i: em for i, em in enumerate(emotions)}"
   ]
  },
  {
   "cell_type": "code",
   "execution_count": 3,
   "metadata": {},
   "outputs": [],
   "source": [
    "config = \"\"\"\n",
    "model:\n",
    "  recipe:\n",
    "    # 'BERT' or 'FastText'\n",
    "    word_embedding: 'BERT'\n",
    "    multi_label: True\n",
    "    use_context: False\n",
    "    # 'sep' or 'cls-concat' or 'emo-concat'\n",
    "    context_type: 'cls-concat'\n",
    "    freeze_emotion_embedding: False\n",
    "\n",
    "  classes_num: 28\n",
    "  lstm:\n",
    "    hidden_size: 128\n",
    "    num_layers: 1\n",
    "    bidirectional: True\n",
    "    # 'sum' or 'last-sum' or 'last-concat'\n",
    "    output_assemble_type: 'sum'\n",
    "    dropout: 0.0\n",
    "  classifier:\n",
    "    hidden_sizes: [ ]\n",
    "    dropout_p: 0.25\n",
    "\n",
    "  emotion_embedding_size: 128\n",
    "  emotion_dropout_p: 0.25\n",
    "\n",
    "bert:\n",
    "  checkpoint_path: '/home/asapozhnikov/projects/emotions/checkpoints/uncased_L-12_H-768_A-12/'\n",
    "  embedding_size: 768\n",
    "  text_preprocessing: True\n",
    "  finetune: False\n",
    "\"\"\"\n",
    "\n",
    "hparams = OmegaConf.create(config)"
   ]
  },
  {
   "cell_type": "code",
   "execution_count": 4,
   "metadata": {},
   "outputs": [
    {
     "name": "stderr",
     "output_type": "stream",
     "text": [
      "Some weights of the model checkpoint at /home/asapozhnikov/projects/emotions/checkpoints/uncased_L-12_H-768_A-12/ were not used when initializing BertModel: ['cls.predictions.transform.LayerNorm.bias', 'cls.predictions.decoder.weight', 'cls.predictions.transform.dense.bias', 'cls.predictions.decoder.bias', 'cls.predictions.bias', 'cls.predictions.transform.dense.weight', 'cls.predictions.transform.LayerNorm.weight', 'cls.seq_relationship.bias', 'cls.seq_relationship.weight']\n",
      "- This IS expected if you are initializing BertModel from the checkpoint of a model trained on another task or with another architecture (e.g. initializing a BertForSequenceClassification model from a BertForPreTraining model).\n",
      "- This IS NOT expected if you are initializing BertModel from the checkpoint of a model that you expect to be exactly identical (initializing a BertForSequenceClassification model from a BertForSequenceClassification model).\n"
     ]
    }
   ],
   "source": [
    "model = compose_model(hparams.model.recipe, hparams)"
   ]
  },
  {
   "cell_type": "code",
   "execution_count": 5,
   "metadata": {},
   "outputs": [
    {
     "name": "stdout",
     "output_type": "stream",
     "text": [
      "Loading checkpoint '/home/asapozhnikov/projects/emotions/outputs/2022-06-13/22-05-18_sum_weights_oversampled/checkpoints/sum-weighted__iter_19991__f1_macro_0.46.ckpt'\n",
      "Loaded checkpoint '/home/asapozhnikov/projects/emotions/outputs/2022-06-13/22-05-18_sum_weights_oversampled/checkpoints/sum-weighted__iter_19991__f1_macro_0.46.ckpt' without BERT from iteration 19991\n"
     ]
    }
   ],
   "source": [
    "checkpoint_path = '/home/asapozhnikov/projects/emotions/go_emotions_bert_base.ckpt'\n",
    "model = load_checkpoint(checkpoint_path, model, None)[0]"
   ]
  },
  {
   "cell_type": "code",
   "execution_count": 6,
   "metadata": {},
   "outputs": [],
   "source": [
    "bert_tokenizer = BertTokenizer.from_pretrained(hparams.bert.checkpoint_path)"
   ]
  },
  {
   "cell_type": "code",
   "execution_count": 7,
   "metadata": {},
   "outputs": [],
   "source": [
    "def get_embedding_and_classification(model, texts):\n",
    "    p = TextProcessingPipeline.get_standard_pipeline()\n",
    "    texts = [p(text) for text in texts]\n",
    "    tokens  = bert_tokenizer(texts, return_tensors=\"pt\", padding=True)\n",
    "    lengths = torch.sum(tokens.attention_mask, dim=1)\n",
    "    emotions, embeddings = model.inferense((tokens, lengths))\n",
    "    emotions = torch.sigmoid(emotions).round()\n",
    "    emotions_mapped = []\n",
    "    for sample_i in range(emotions.shape[0]):\n",
    "        cur_emotions = []\n",
    "        for i in range(emotions.shape[1]):\n",
    "            if emotions[sample_i][i]:\n",
    "                cur_emotions.append(emotions_map[i])\n",
    "        emotions_mapped.append(cur_emotions)\n",
    "    return emotions_mapped, embeddings.detach().numpy()"
   ]
  },
  {
   "cell_type": "code",
   "execution_count": 9,
   "metadata": {},
   "outputs": [
    {
     "data": {
      "text/plain": [
       "[['love'], ['anger'], ['admiration']]"
      ]
     },
     "execution_count": 9,
     "metadata": {},
     "output_type": "execute_result"
    }
   ],
   "source": [
    "emotions, embeddings = get_embedding_and_classification(model, [\n",
    "    \"i love you\",\n",
    "    \"i hate you\",\n",
    "    \"sooooo cuuute doggie <3\"\n",
    "])\n",
    "emotions"
   ]
  },
  {
   "cell_type": "markdown",
   "metadata": {},
   "source": [
    "# Emotion Embedding similarity"
   ]
  },
  {
   "cell_type": "code",
   "execution_count": 12,
   "metadata": {},
   "outputs": [],
   "source": [
    "embeddings_love = embeddings[0] / np.linalg.norm(embeddings[0])\n",
    "embeddings_angr = embeddings[1] / np.linalg.norm(embeddings[1])\n",
    "embeddings_admi = embeddings[2] / np.linalg.norm(embeddings[2])"
   ]
  },
  {
   "cell_type": "code",
   "execution_count": 14,
   "metadata": {},
   "outputs": [
    {
     "data": {
      "text/plain": [
       "0.30952560901641846"
      ]
     },
     "execution_count": 14,
     "metadata": {},
     "output_type": "execute_result"
    }
   ],
   "source": [
    "1 - cosine(embeddings_love, embeddings_angr)"
   ]
  },
  {
   "cell_type": "code",
   "execution_count": 15,
   "metadata": {},
   "outputs": [
    {
     "data": {
      "text/plain": [
       "0.7504923343658447"
      ]
     },
     "execution_count": 15,
     "metadata": {},
     "output_type": "execute_result"
    }
   ],
   "source": [
    "1 - cosine(embeddings_love, embeddings_admi)"
   ]
  },
  {
   "cell_type": "code",
   "execution_count": 16,
   "metadata": {},
   "outputs": [
    {
     "data": {
      "text/plain": [
       "-0.02869943529367447"
      ]
     },
     "execution_count": 16,
     "metadata": {},
     "output_type": "execute_result"
    }
   ],
   "source": [
    "1 - cosine(embeddings_angr, embeddings_admi)"
   ]
  },
  {
   "cell_type": "markdown",
   "metadata": {},
   "source": [
    "# Emotion Embedding math operations"
   ]
  },
  {
   "cell_type": "code",
   "execution_count": 11,
   "metadata": {},
   "outputs": [
    {
     "data": {
      "text/plain": [
       "[['desire', 'joy'], ['desire'], ['disgust']]"
      ]
     },
     "execution_count": 11,
     "metadata": {},
     "output_type": "execute_result"
    }
   ],
   "source": [
    "emotions, embeddings = get_embedding_and_classification(model,\n",
    "[\n",
    "    \"I dream to be an astronaut! I'm so happy that I entered the NASA internship\",\n",
    "    \"I WANT PIZZA\",\n",
    "    \"That service is awfull. I would reply\",\n",
    "])\n",
    "emotions"
   ]
  },
  {
   "cell_type": "code",
   "execution_count": 15,
   "metadata": {},
   "outputs": [
    {
     "name": "stdout",
     "output_type": "stream",
     "text": [
      "['desire', 'joy'] - ['desire'] = ['joy']\n"
     ]
    }
   ],
   "source": [
    "emb = embeddings[0] - embeddings[1]\n",
    "\n",
    "emotions = model.predict_by_emotion_embedding(torch.tensor([emb]))[0]\n",
    "emotions = torch.sigmoid(emotions).round()\n",
    "emotions_mapped = []\n",
    "for sample_i in range(emotions.shape[0]):\n",
    "    cur_emotions = []\n",
    "    for i in range(emotions.shape[1]):\n",
    "        if emotions[sample_i][i]:\n",
    "            cur_emotions.append(emotions_map[i])\n",
    "    emotions_mapped.append(cur_emotions)\n",
    "\n",
    "print(f\"['desire', 'joy'] - ['desire'] = {emotions_mapped[0]}\")"
   ]
  }
 ],
 "metadata": {
  "interpreter": {
   "hash": "42b0d6b4d84f0b54f0f3be03ad541fb9b16604cde3b77f7539cf11bfd1e678ba"
  },
  "kernelspec": {
   "display_name": "Python 3.8.8 ('.venv')",
   "language": "python",
   "name": "python3"
  },
  "language_info": {
   "codemirror_mode": {
    "name": "ipython",
    "version": 3
   },
   "file_extension": ".py",
   "mimetype": "text/x-python",
   "name": "python",
   "nbconvert_exporter": "python",
   "pygments_lexer": "ipython3",
   "version": "3.8.8"
  },
  "orig_nbformat": 4
 },
 "nbformat": 4,
 "nbformat_minor": 2
}
